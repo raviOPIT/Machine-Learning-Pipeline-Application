{
 "cells": [
  {
   "cell_type": "markdown",
   "metadata": {},
   "source": [
    "# Classification Example"
   ]
  },
  {
   "cell_type": "code",
   "execution_count": 1,
   "metadata": {},
   "outputs": [
    {
     "name": "stdout",
     "output_type": "stream",
     "text": [
      "Starting data loading...\n",
      "Task type determined: classification\n",
      "Starting preprocessing...\n",
      "Preprocessing setup complete.\n",
      "Building the ML pipeline...\n",
      "Pipeline built successfully.\n",
      "Starting model training and evaluation...\n",
      "Cross-validated accuracy: 0.7695\n",
      "Model training and evaluation complete.\n",
      "Saving the pipeline to sample_pipeline.pkl...\n",
      "Pipeline saved to sample_pipeline.pkl\n"
     ]
    }
   ],
   "source": [
    "from app import MLApplication\n",
    "\n",
    "# Instantiate the MLApplication class with the desired parameters.\n",
    "# - csv_path: Path to the CSV data file.\n",
    "# - target_column: The name of the target column in the dataset.\n",
    "# - algorithm: The machine learning algorithm to use ('decision_tree' for classification).\n",
    "# - task_type: The type of ML task ('classification' or 'regression').\n",
    "app = MLApplication(\n",
    "    csv_path='example.csv', \n",
    "    target_column='Transported', \n",
    "    algorithm='decision_tree'\n",
    ")\n",
    "\n",
    "# Load the data from the provided CSV file.\n",
    "# This step separates the features (X) and the target (y).\n",
    "app.load_data()\n",
    "\n",
    "# Preprocess the data. This step typically includes:\n",
    "# - Imputing missing values\n",
    "# - Scaling numeric features\n",
    "# - Encoding categorical variables\n",
    "app.preprocess_data()\n",
    "\n",
    "# Build the pipeline.\n",
    "# This constructs a scikit-learn Pipeline that includes the preprocessing steps\n",
    "# followed by the selected machine learning model.\n",
    "app.build_pipeline()\n",
    "\n",
    "# Train and evaluate the model using cross-validation.\n",
    "# This will print out performance metrics (e.g., accuracy for classification).\n",
    "app.train_and_evaluate()\n",
    "\n",
    "# Save the trained pipeline to a .pkl file for later reuse or deployment.\n",
    "app.save_pipeline('sample_pipeline.pkl')\n"
   ]
  },
  {
   "cell_type": "markdown",
   "metadata": {},
   "source": [
    "# Regression Example"
   ]
  },
  {
   "cell_type": "code",
   "execution_count": 3,
   "metadata": {},
   "outputs": [
    {
     "name": "stdout",
     "output_type": "stream",
     "text": [
      "Starting data loading...\n",
      "Task type determined: regression\n",
      "Starting preprocessing...\n",
      "Preprocessing setup complete.\n",
      "Building the ML pipeline...\n",
      "Pipeline built successfully.\n",
      "Starting model training and evaluation...\n",
      "Cross-validated MSE: 2779970364407.9893\n",
      "Model training and evaluation complete.\n",
      "Saving the pipeline to sample_pipeline.pkl...\n",
      "Pipeline saved to sample_pipeline.pkl\n"
     ]
    }
   ],
   "source": [
    "from app import MLApplication\n",
    "\n",
    "# Instantiate the MLApplication class with the desired parameters.\n",
    "# - csv_path: Path to the CSV data file.\n",
    "# - target_column: The name of the target column in the dataset.\n",
    "# - algorithm: The machine learning algorithm to use ('decision_tree' for classification).\n",
    "# - task_type: The type of ML task ('classification' or 'regression').\n",
    "app = MLApplication(\n",
    "    csv_path='housing.csv', \n",
    "    target_column='price', \n",
    "    algorithm='random_forest'\n",
    ")\n",
    "\n",
    "# Load the data from the provided CSV file.\n",
    "# This step separates the features (X) and the target (y).\n",
    "app.load_data()\n",
    "\n",
    "# Preprocess the data. This step typically includes:\n",
    "# - Imputing missing values\n",
    "# - Scaling numeric features\n",
    "# - Encoding categorical variables\n",
    "app.preprocess_data()\n",
    "\n",
    "# Build the pipeline.\n",
    "# This constructs a scikit-learn Pipeline that includes the preprocessing steps\n",
    "# followed by the selected machine learning model.\n",
    "app.build_pipeline()\n",
    "\n",
    "# Train and evaluate the model using cross-validation.\n",
    "# This will print out performance metrics (e.g., accuracy for classification).\n",
    "app.train_and_evaluate()\n",
    "\n",
    "# Save the trained pipeline to a .pkl file for later reuse or deployment.\n",
    "app.save_pipeline('sample_pipeline.pkl')"
   ]
  }
 ],
 "metadata": {
  "kernelspec": {
   "display_name": "Python 3",
   "language": "python",
   "name": "python3"
  },
  "language_info": {
   "codemirror_mode": {
    "name": "ipython",
    "version": 3
   },
   "file_extension": ".py",
   "mimetype": "text/x-python",
   "name": "python",
   "nbconvert_exporter": "python",
   "pygments_lexer": "ipython3",
   "version": "3.11.4"
  }
 },
 "nbformat": 4,
 "nbformat_minor": 2
}
